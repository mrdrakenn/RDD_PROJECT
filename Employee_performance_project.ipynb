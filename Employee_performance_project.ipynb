{
  "nbformat": 4,
  "nbformat_minor": 0,
  "metadata": {
    "colab": {
      "provenance": []
    },
    "kernelspec": {
      "name": "python3",
      "display_name": "Python 3"
    },
    "language_info": {
      "name": "python"
    }
  },
  "cells": [
    {
      "cell_type": "code",
      "execution_count": 2,
      "metadata": {
        "id": "prxC_saZ2v6k"
      },
      "outputs": [],
      "source": [
        "from pyspark.sql import SparkSession\n",
        "from pyspark.sql.functions import col, avg, count, when, desc\n",
        "\n",
        "spark = SparkSession.builder.appName(\"EmployeePerformanceAnalysis\").getOrCreate()\n",
        "df = spark.read.csv(\"/content/Extended_Employee_Performance_and_Productivity_Data.csv\", header=True, inferSchema=True)"
      ]
    },
    {
      "cell_type": "markdown",
      "source": [
        "1. Read the data into RDD"
      ],
      "metadata": {
        "id": "TLaR06Xr_pbe"
      }
    },
    {
      "cell_type": "code",
      "source": [
        "rdd = df.rdd\n",
        "rdd.take(5)"
      ],
      "metadata": {
        "colab": {
          "base_uri": "https://localhost:8080/"
        },
        "id": "bxRFUNDI-Ixm",
        "outputId": "3ca52381-b1fb-4536-8768-82608ff34dd0"
      },
      "execution_count": 3,
      "outputs": [
        {
          "output_type": "execute_result",
          "data": {
            "text/plain": [
              "[Row(Employee_ID=1, Department='IT', Gender='Male', Age=55, Job_Title='Specialist', Hire_Date=datetime.datetime(2022, 1, 19, 8, 3, 5, 556036), Years_At_Company=2, Education_Level='High School', Performance_Score=5, Monthly_Salary=6750.0, Work_Hours_Per_Week=33, Projects_Handled=32, Overtime_Hours=22, Sick_Days=2, Remote_Work_Frequency=0, Team_Size=14, Training_Hours=66, Promotions=0, Employee_Satisfaction_Score=2.63, Resigned=False),\n",
              " Row(Employee_ID=2, Department='Finance', Gender='Male', Age=29, Job_Title='Developer', Hire_Date=datetime.datetime(2024, 4, 18, 8, 3, 5, 556036), Years_At_Company=0, Education_Level='High School', Performance_Score=5, Monthly_Salary=7500.0, Work_Hours_Per_Week=34, Projects_Handled=34, Overtime_Hours=13, Sick_Days=14, Remote_Work_Frequency=100, Team_Size=12, Training_Hours=61, Promotions=2, Employee_Satisfaction_Score=1.72, Resigned=False),\n",
              " Row(Employee_ID=3, Department='Finance', Gender='Male', Age=55, Job_Title='Specialist', Hire_Date=datetime.datetime(2015, 10, 26, 8, 3, 5, 556036), Years_At_Company=8, Education_Level='High School', Performance_Score=3, Monthly_Salary=5850.0, Work_Hours_Per_Week=37, Projects_Handled=27, Overtime_Hours=6, Sick_Days=3, Remote_Work_Frequency=50, Team_Size=10, Training_Hours=1, Promotions=0, Employee_Satisfaction_Score=3.17, Resigned=False),\n",
              " Row(Employee_ID=4, Department='Customer Support', Gender='Female', Age=48, Job_Title='Analyst', Hire_Date=datetime.datetime(2016, 10, 22, 8, 3, 5, 556036), Years_At_Company=7, Education_Level='Bachelor', Performance_Score=2, Monthly_Salary=4800.0, Work_Hours_Per_Week=52, Projects_Handled=10, Overtime_Hours=28, Sick_Days=12, Remote_Work_Frequency=100, Team_Size=10, Training_Hours=0, Promotions=1, Employee_Satisfaction_Score=1.86, Resigned=False),\n",
              " Row(Employee_ID=5, Department='Engineering', Gender='Female', Age=36, Job_Title='Analyst', Hire_Date=datetime.datetime(2021, 7, 23, 8, 3, 5, 556036), Years_At_Company=3, Education_Level='Bachelor', Performance_Score=2, Monthly_Salary=4800.0, Work_Hours_Per_Week=38, Projects_Handled=11, Overtime_Hours=29, Sick_Days=13, Remote_Work_Frequency=100, Team_Size=15, Training_Hours=9, Promotions=1, Employee_Satisfaction_Score=1.25, Resigned=False)]"
            ]
          },
          "metadata": {},
          "execution_count": 3
        }
      ]
    },
    {
      "cell_type": "markdown",
      "source": [
        "2. Department with highest average performance score"
      ],
      "metadata": {
        "id": "Ea52Xxsv_q8-"
      }
    },
    {
      "cell_type": "code",
      "source": [
        "df.groupBy(\"Department\") \\\n",
        "  .agg(avg(\"Performance_Score\").alias(\"avg_performance\")) \\\n",
        "  .orderBy(desc(\"avg_performance\")) \\\n",
        "  .show(1)"
      ],
      "metadata": {
        "colab": {
          "base_uri": "https://localhost:8080/"
        },
        "id": "HqVpZyHh-K76",
        "outputId": "547fb547-a370-47d5-f552-619912e52f66"
      },
      "execution_count": 4,
      "outputs": [
        {
          "output_type": "stream",
          "name": "stdout",
          "text": [
            "+-----------+------------------+\n",
            "| Department|   avg_performance|\n",
            "+-----------+------------------+\n",
            "|Engineering|3.0235858289293405|\n",
            "+-----------+------------------+\n",
            "only showing top 1 row\n",
            "\n"
          ]
        }
      ]
    },
    {
      "cell_type": "markdown",
      "source": [
        "3. Department with lowest average employee satisfaction score"
      ],
      "metadata": {
        "id": "_xlp18kc-84k"
      }
    },
    {
      "cell_type": "code",
      "source": [
        "df.groupBy(\"Department\") \\\n",
        "  .agg(avg(\"Employee_Satisfaction_Score\").alias(\"avg_satisfaction\")) \\\n",
        "  .orderBy(\"avg_satisfaction\") \\\n",
        "  .show(1)\n",
        ""
      ],
      "metadata": {
        "colab": {
          "base_uri": "https://localhost:8080/"
        },
        "id": "_ZYpmaDU-qke",
        "outputId": "1ddd5c80-c2e0-494d-ccc6-b60383e4a431"
      },
      "execution_count": 5,
      "outputs": [
        {
          "output_type": "stream",
          "name": "stdout",
          "text": [
            "+----------------+------------------+\n",
            "|      Department|  avg_satisfaction|\n",
            "+----------------+------------------+\n",
            "|Customer Support|2.9605133906990173|\n",
            "+----------------+------------------+\n",
            "only showing top 1 row\n",
            "\n"
          ]
        }
      ]
    },
    {
      "cell_type": "markdown",
      "source": [
        "4. Job title with highest average monthly salary"
      ],
      "metadata": {
        "id": "AIbaZL2x_BUu"
      }
    },
    {
      "cell_type": "code",
      "source": [
        "df.groupBy(\"Job_Title\") \\\n",
        "  .agg(avg(\"Monthly_Salary\").alias(\"avg_salary\")) \\\n",
        "  .orderBy(desc(\"avg_salary\")) \\\n",
        "  .show(1)"
      ],
      "metadata": {
        "colab": {
          "base_uri": "https://localhost:8080/"
        },
        "id": "dVdaGzdK_Dga",
        "outputId": "b26e3850-8db7-49aa-e17b-bcbf8892f023"
      },
      "execution_count": 6,
      "outputs": [
        {
          "output_type": "stream",
          "name": "stdout",
          "text": [
            "+---------+-----------------+\n",
            "|Job_Title|       avg_salary|\n",
            "+---------+-----------------+\n",
            "|  Manager|7801.438741101536|\n",
            "+---------+-----------------+\n",
            "only showing top 1 row\n",
            "\n"
          ]
        }
      ]
    },
    {
      "cell_type": "markdown",
      "source": [
        "5. Probability that an employee has resigned"
      ],
      "metadata": {
        "id": "tgPuinA8_GT5"
      }
    },
    {
      "cell_type": "code",
      "source": [
        "total_count = df.count()\n",
        "resigned_count = df.filter(col(\"Resigned\") == \"Yes\").count()\n",
        "prob_resigned = resigned_count / total_count\n",
        "print(\"P(Resigned) =\", prob_resigned)"
      ],
      "metadata": {
        "colab": {
          "base_uri": "https://localhost:8080/"
        },
        "id": "mgAdJDGv_Ids",
        "outputId": "da59913b-1ca3-487a-a9e5-9081133cf59a"
      },
      "execution_count": 7,
      "outputs": [
        {
          "output_type": "stream",
          "name": "stdout",
          "text": [
            "P(Resigned) = 0.1005467996140238\n"
          ]
        }
      ]
    },
    {
      "cell_type": "markdown",
      "source": [
        "6. Probability that an employee got a promotion"
      ],
      "metadata": {
        "id": "61pyqgMU_LYe"
      }
    },
    {
      "cell_type": "code",
      "source": [
        "promoted_count = df.filter(col(\"Promotions\") > 0).count()\n",
        "prob_promoted = promoted_count / total_count\n",
        "print(\"P(Promoted) =\", prob_promoted)"
      ],
      "metadata": {
        "colab": {
          "base_uri": "https://localhost:8080/"
        },
        "id": "aZWp8INL_NYD",
        "outputId": "a7852a52-bbe2-4534-ce70-58cc465d2b01"
      },
      "execution_count": 8,
      "outputs": [
        {
          "output_type": "stream",
          "name": "stdout",
          "text": [
            "P(Promoted) = 0.6674278975018763\n"
          ]
        }
      ]
    },
    {
      "cell_type": "markdown",
      "source": [
        "7. Average training hours and satisfaction for remote full-time employees"
      ],
      "metadata": {
        "id": "1uzZAzr1_QDB"
      }
    },
    {
      "cell_type": "code",
      "source": [
        "df.filter(col(\"Remote_Work_Frequency\") == \"Full-time\") \\\n",
        "  .select(avg(\"Training_Hours\").alias(\"avg_training\"),\n",
        "          avg(\"Employee_Satisfaction_Score\").alias(\"avg_satisfaction\")) \\\n",
        "  .show()"
      ],
      "metadata": {
        "colab": {
          "base_uri": "https://localhost:8080/"
        },
        "id": "-O8GuqkJ_T2L",
        "outputId": "3d79bc83-aa90-4f9d-f6d0-7ec408190826"
      },
      "execution_count": 9,
      "outputs": [
        {
          "output_type": "stream",
          "name": "stdout",
          "text": [
            "+------------+----------------+\n",
            "|avg_training|avg_satisfaction|\n",
            "+------------+----------------+\n",
            "|        NULL|            NULL|\n",
            "+------------+----------------+\n",
            "\n"
          ]
        }
      ]
    },
    {
      "cell_type": "markdown",
      "source": [
        "8. Department with highest promotions per employee"
      ],
      "metadata": {
        "id": "MrFq1C-Q_W-n"
      }
    },
    {
      "cell_type": "code",
      "source": [
        "df.groupBy(\"Department\") \\\n",
        "  .agg((avg(\"Promotions\")).alias(\"avg_promotions\")) \\\n",
        "  .orderBy(desc(\"avg_promotions\")) \\\n",
        "  .show(1)"
      ],
      "metadata": {
        "colab": {
          "base_uri": "https://localhost:8080/"
        },
        "id": "n70A4D7G_Y8F",
        "outputId": "61a38bea-36cf-494d-94d1-72e72bf72af0"
      },
      "execution_count": 10,
      "outputs": [
        {
          "output_type": "stream",
          "name": "stdout",
          "text": [
            "+----------+------------------+\n",
            "|Department|    avg_promotions|\n",
            "+----------+------------------+\n",
            "|     Sales|1.0050149484038962|\n",
            "+----------+------------------+\n",
            "only showing top 1 row\n",
            "\n"
          ]
        }
      ]
    },
    {
      "cell_type": "markdown",
      "source": [
        " 9. Correlation between Monthly Salary and Satisfaction Score"
      ],
      "metadata": {
        "id": "3YMQ3CNt_bkn"
      }
    },
    {
      "cell_type": "code",
      "source": [
        "corr = df.stat.corr(\"Monthly_Salary\", \"Employee_Satisfaction_Score\")\n",
        "print(\"Correlation (Salary vs Satisfaction):\", corr)"
      ],
      "metadata": {
        "colab": {
          "base_uri": "https://localhost:8080/"
        },
        "id": "5AJGHxzR_dsu",
        "outputId": "05d191af-72f7-4919-8302-5d803a583514"
      },
      "execution_count": 11,
      "outputs": [
        {
          "output_type": "stream",
          "name": "stdout",
          "text": [
            "Correlation (Salary vs Satisfaction): 0.0011027716598043247\n"
          ]
        }
      ]
    },
    {
      "cell_type": "markdown",
      "source": [
        "10. Average sick days for employees with high workload (>45 hrs/week)"
      ],
      "metadata": {
        "id": "TBfoiUMH_g6P"
      }
    },
    {
      "cell_type": "code",
      "source": [
        "df.filter(col(\"Work_Hours_Per_Week\") > 45) \\\n",
        "  .select(avg(\"Sick_Days\").alias(\"avg_sick_days\")) \\\n",
        "  .show()"
      ],
      "metadata": {
        "colab": {
          "base_uri": "https://localhost:8080/"
        },
        "id": "plnlZjxG_jNp",
        "outputId": "7e150203-461d-4130-c122-8debc9ed7d75"
      },
      "execution_count": 12,
      "outputs": [
        {
          "output_type": "stream",
          "name": "stdout",
          "text": [
            "+------------------+\n",
            "|     avg_sick_days|\n",
            "+------------------+\n",
            "|7.0210225624316545|\n",
            "+------------------+\n",
            "\n"
          ]
        }
      ]
    }
  ]
}