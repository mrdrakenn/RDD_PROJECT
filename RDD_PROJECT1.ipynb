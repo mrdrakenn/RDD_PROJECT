{
  "nbformat": 4,
  "nbformat_minor": 0,
  "metadata": {
    "colab": {
      "provenance": []
    },
    "kernelspec": {
      "name": "python3",
      "display_name": "Python 3"
    },
    "language_info": {
      "name": "python"
    }
  },
  "cells": [
    {
      "cell_type": "markdown",
      "source": [
        "1.Read the data into an RDD"
      ],
      "metadata": {
        "id": "5gGBKV7wS-zP"
      }
    },
    {
      "cell_type": "code",
      "source": [
        "from pyspark import SparkContext\n",
        "sc = SparkContext.getOrCreate()\n",
        "\n",
        "rdd = sc.textFile(\"EPL.csv\")\n",
        "header = rdd.first()\n",
        "rdd = rdd.filter(lambda row: row != header and len(row.split(\",\")) == 6).map(lambda row: row.split(\",\"))"
      ],
      "metadata": {
        "id": "KOM3RPhkS2LL"
      },
      "execution_count": null,
      "outputs": []
    },
    {
      "cell_type": "markdown",
      "source": [
        "2. Which season has the highest number of goals"
      ],
      "metadata": {
        "id": "Nm_RMJ7fV1vn"
      }
    },
    {
      "cell_type": "code",
      "source": [
        "season_goals = rdd.map(lambda x: (x[5], int(float(x[2])) + int(float(x[3])))).reduceByKey(lambda a, b: a + b)\n",
        "highest_season = season_goals.max(key=lambda x: x[1])\n",
        "print(\"Season with highest number of goals:\", highest_season)"
      ],
      "metadata": {
        "colab": {
          "base_uri": "https://localhost:8080/"
        },
        "id": "RuzdoxkDS7v_",
        "outputId": "28c6272a-b61d-4418-ffa3-c37ee829b06f"
      },
      "execution_count": null,
      "outputs": [
        {
          "output_type": "stream",
          "name": "stdout",
          "text": [
            "Season with highest number of goals: ('2011-2012', 1066)\n"
          ]
        }
      ]
    },
    {
      "cell_type": "markdown",
      "source": [
        "3. Which season has the lowest number of goals"
      ],
      "metadata": {
        "id": "rXd8rkkMVu32"
      }
    },
    {
      "cell_type": "code",
      "source": [
        "lowest_season = season_goals.min(key=lambda x: x[1])\n",
        "print(\"Season with lowest number of goals:\", lowest_season)"
      ],
      "metadata": {
        "colab": {
          "base_uri": "https://localhost:8080/"
        },
        "id": "jDTTmGDaTM6W",
        "outputId": "f70b0198-d300-40d2-ca7d-2060a722fdfc"
      },
      "execution_count": null,
      "outputs": [
        {
          "output_type": "stream",
          "name": "stdout",
          "text": [
            "Season with lowest number of goals: ('2006-2007', 931)\n"
          ]
        }
      ]
    },
    {
      "cell_type": "markdown",
      "source": [
        "4. Which team has the highest average goals per season"
      ],
      "metadata": {
        "id": "rA0vValNV-DE"
      }
    },
    {
      "cell_type": "code",
      "source": [
        "team_goals = rdd.flatMap(lambda x: [\n",
        "    ((x[0], x[5]), int(float(x[2]))),\n",
        "    ((x[1], x[5]), int(float(x[3])))\n",
        "])\n",
        "team_season_goals = team_goals.reduceByKey(lambda a, b: a + b)\n",
        "team_total = team_season_goals.map(lambda x: (x[0][0], (x[1], {x[0][1]}))) \\\n",
        "                              .reduceByKey(lambda a, b: (a[0] + b[0], a[1].union(b[1])))\n",
        "team_avg = team_total.map(lambda x: (x[0], x[1][0] / len(x[1][1])))\n",
        "best_team = team_avg.max(key=lambda x: x[1])\n",
        "print(\"Team with highest average goals per season:\", best_team)"
      ],
      "metadata": {
        "colab": {
          "base_uri": "https://localhost:8080/"
        },
        "id": "RCpYacacV4YK",
        "outputId": "affcd987-8933-46ad-e2af-d33a84e01c15"
      },
      "execution_count": null,
      "outputs": [
        {
          "output_type": "stream",
          "name": "stdout",
          "text": [
            "Team with highest average goals per season: ('Manchester United', 72.25)\n"
          ]
        }
      ]
    },
    {
      "cell_type": "markdown",
      "source": [
        "5. Probabilities of Manchester United results"
      ],
      "metadata": {
        "id": "6-pOp8nzWD-O"
      }
    },
    {
      "cell_type": "code",
      "source": [
        "mu_matches = rdd.filter(lambda x: x[0] == \"Manchester United\" or x[1] == \"Manchester United\")\n",
        "total_matches = mu_matches.count()\n",
        "mu_wins = mu_matches.filter(lambda x: (x[0] == \"Manchester United\" and x[4] == \"H\") or (x[1] == \"Manchester United\" and x[4] == \"A\")).count()\n",
        "mu_losses = mu_matches.filter(lambda x: (x[0] == \"Manchester United\" and x[4] == \"A\") or (x[1] == \"Manchester United\" and x[4] == \"H\")).count()\n",
        "mu_draws = mu_matches.filter(lambda x: x[4] == \"D\").count()\n",
        "p_win = mu_wins / total_matches if total_matches > 0 else 0\n",
        "p_loss = mu_losses / total_matches if total_matches > 0 else 0\n",
        "p_draw = mu_draws / total_matches if total_matches > 0 else 0\n",
        "\n",
        "print(\"Probability that Manchester United Wins:\", round(p_win, 2))\n",
        "print(\"Probability that Manchester United Loses:\", round(p_loss, 2))\n",
        "print(\"Probability that Manchester United Draws:\", round(p_draw, 2))"
      ],
      "metadata": {
        "colab": {
          "base_uri": "https://localhost:8080/"
        },
        "id": "y7nV5XcKV7cp",
        "outputId": "60846248-2de8-4098-8db8-b50c4c78b133"
      },
      "execution_count": null,
      "outputs": [
        {
          "output_type": "stream",
          "name": "stdout",
          "text": [
            "Probability that Manchester United Wins: 0.64\n",
            "Probability that Manchester United Loses: 0.17\n",
            "Probability that Manchester United Draws: 0.2\n"
          ]
        }
      ]
    },
    {
      "cell_type": "code",
      "source": [],
      "metadata": {
        "id": "J5Y3wiGCWBVK"
      },
      "execution_count": null,
      "outputs": []
    }
  ]
}